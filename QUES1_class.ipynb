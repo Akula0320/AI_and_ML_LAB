{
  "nbformat": 4,
  "nbformat_minor": 0,
  "metadata": {
    "colab": {
      "provenance": [],
      "authorship_tag": "ABX9TyMXmxrIxZG12ICUK/tdxsE0",
      "include_colab_link": true
    },
    "kernelspec": {
      "name": "python3",
      "display_name": "Python 3"
    },
    "language_info": {
      "name": "python"
    }
  },
  "cells": [
    {
      "cell_type": "markdown",
      "metadata": {
        "id": "view-in-github",
        "colab_type": "text"
      },
      "source": [
        "<a href=\"https://colab.research.google.com/github/Akula0320/AI_and_ML_LAB/blob/AI/QUES1_class.ipynb\" target=\"_parent\"><img src=\"https://colab.research.google.com/assets/colab-badge.svg\" alt=\"Open In Colab\"/></a>"
      ]
    },
    {
      "cell_type": "code",
      "execution_count": null,
      "metadata": {
        "id": "I7hkRGM-kM51"
      },
      "outputs": [],
      "source": [
        "import pandas as pd\n",
        "df = pd.read_csv('/content/santhosh.csv')\n",
        "\n",
        "\n"
      ]
    },
    {
      "cell_type": "code",
      "source": [],
      "metadata": {
        "id": "IXnCqitPl0Yb"
      },
      "execution_count": null,
      "outputs": []
    },
    {
      "cell_type": "code",
      "source": [
        "print(df.head())"
      ],
      "metadata": {
        "colab": {
          "base_uri": "https://localhost:8080/"
        },
        "id": "vhWbMShvlEsh",
        "outputId": "e8477a7c-26d5-4d14-8e64-51c648c21718"
      },
      "execution_count": null,
      "outputs": [
        {
          "output_type": "stream",
          "name": "stdout",
          "text": [
            "   x     y\n",
            "0  1  1.00\n",
            "1  2  2.00\n",
            "2  3  1.30\n",
            "3  4  3.75\n",
            "4  5  2.25\n"
          ]
        }
      ]
    },
    {
      "cell_type": "code",
      "source": [
        "import matplotlib.pyplot as plt\n",
        "# matplotlib for ploting the graph\n",
        "import numpy as np\n",
        "# num py perform mathamatical operations\n",
        "from sklearn import linear_model \n"
      ],
      "metadata": {
        "id": "ZalCHhaGl7Ii"
      },
      "execution_count": null,
      "outputs": []
    },
    {
      "cell_type": "code",
      "source": [
        "# to lable x and y\n",
        "plt.xlabel('X - VALUES')\n",
        "plt.ylabel('Y - VALUES')\n",
        "plt.title('Graph QUES-1')\n",
        "\n",
        "# extracting x and y values\n",
        "X= df['x']\n",
        "Y = df['y']\n",
        "x = np.array(X).reshape(-1,1)\n",
        "y = np.array(Y).reshape(-1,1)\n",
        "plt.scatter(x,y)"
      ],
      "metadata": {
        "colab": {
          "base_uri": "https://localhost:8080/",
          "height": 312
        },
        "id": "imQEo0yJneF6",
        "outputId": "7b347745-85a8-485a-b243-c5c4c244a4f4"
      },
      "execution_count": null,
      "outputs": [
        {
          "output_type": "execute_result",
          "data": {
            "text/plain": [
              "<matplotlib.collections.PathCollection at 0x7f43323f89d0>"
            ]
          },
          "metadata": {},
          "execution_count": 17
        },
        {
          "output_type": "display_data",
          "data": {
            "text/plain": [
              "<Figure size 432x288 with 1 Axes>"
            ],
            "image/png": "[encoded data removed]"
          },
          "metadata": {
            "needs_background": "light"
          }
        }
      ]
    },
    {
      "cell_type": "code",
      "source": [
        "SLR = linear_model.LinearRegression()\n",
        "SLR.fit(x,y)\n"
      ],
      "metadata": {
        "colab": {
          "base_uri": "https://localhost:8080/"
        },
        "id": "35scslG7oT-L",
        "outputId": "3500f3bc-6946-4537-c63e-2c20f453908c"
      },
      "execution_count": null,
      "outputs": [
        {
          "output_type": "execute_result",
          "data": {
            "text/plain": [
              "LinearRegression()"
            ]
          },
          "metadata": {},
          "execution_count": 18
        }
      ]
    },
    {
      "cell_type": "code",
      "source": [
        "print(SLR.coef_)    # SLR.coef\n",
        "print(SLR.intercept_)   # SLR.intercept "
      ],
      "metadata": {
        "colab": {
          "base_uri": "https://localhost:8080/"
        },
        "id": "odp901-xr3E5",
        "outputId": "ea8b689d-19e6-4aac-a9c2-3c2aac3458b7"
      },
      "execution_count": null,
      "outputs": [
        {
          "output_type": "stream",
          "name": "stdout",
          "text": [
            "[[0.425]]\n",
            "[0.785]\n"
          ]
        }
      ]
    },
    {
      "cell_type": "code",
      "source": [
        "y_predict = SLR.predict(x)\n",
        "plt.scatter(x,y)\n",
        "plt.scatter(x,y_predict)\n",
        "plt.plot(x,y_predict)"
      ],
      "metadata": {
        "colab": {
          "base_uri": "https://localhost:8080/",
          "height": 282
        },
        "id": "DK_39kaMsW74",
        "outputId": "aa5f9147-289e-491f-b3cd-3bcf96f166c2"
      },
      "execution_count": null,
      "outputs": [
        {
          "output_type": "execute_result",
          "data": {
            "text/plain": [
              "[<matplotlib.lines.Line2D at 0x7f4331f69b90>]"
            ]
          },
          "metadata": {},
          "execution_count": 25
        },
        {
          "output_type": "display_data",
          "data": {
            "text/plain": [
              "<Figure size 432x288 with 1 Axes>"
            ],
            "image/png": "[encoded data removed]"
          },
          "metadata": {
            "needs_background": "light"
          }
        }
      ]
    },
    {
      "cell_type": "code",
      "source": [
        "from sklearn.metrics import r2_score, mean_squared_error\n",
        "print('R2 Score = ', np.abs(r2_score(y,y_predict)))\n",
        "print('RMSE= ', np.sqrt(mean_squared_error(y,y_predict)))"
      ],
      "metadata": {
        "colab": {
          "base_uri": "https://localhost:8080/"
        },
        "id": "mWWDjT49tcII",
        "outputId": "1d985dee-45d8-43f6-fbb9-72d65e04ef63"
      },
      "execution_count": null,
      "outputs": [
        {
          "output_type": "stream",
          "name": "stdout",
          "text": [
            "R2 Score =  0.3929192951925171\n",
            "RMSE=  0.7470943715488692\n"
          ]
        }
      ]
    },
    {
      "cell_type": "code",
      "source": [],
      "metadata": {
        "id": "5RLPH9pqmCgy"
      },
      "execution_count": null,
      "outputs": []
    },
    {
      "cell_type": "code",
      "source": [
        "from pandas.core.common import random_state\n",
        "from sklearn.model_selection import train_test_split\n",
        "x_train, x_test, y_train, y_test = train_test_split(x,y, size = .80, random_state=0)\n",
        "\n",
        "\n",
        "\n",
        "\n",
        "# SIMPLE LINEAR REGRESSION FOR MBA DETAILS :::::\n",
        "\n",
        "\n",
        "\n",
        "\n"
      ],
      "metadata": {
        "id": "kvAlM_devjdI"
      },
      "execution_count": null,
      "outputs": []
    }
  ]
}