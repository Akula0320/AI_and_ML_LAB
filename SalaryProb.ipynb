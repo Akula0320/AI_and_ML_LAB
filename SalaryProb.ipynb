{
  "nbformat": 4,
  "nbformat_minor": 0,
  "metadata": {
    "colab": {
      "provenance": [],
      "authorship_tag": "ABX9TyOMbBTybGXEuX1e0VTnhq1g",
      "include_colab_link": true
    },
    "kernelspec": {
      "name": "python3",
      "display_name": "Python 3"
    },
    "language_info": {
      "name": "python"
    }
  },
  "cells": [
    {
      "cell_type": "markdown",
      "metadata": {
        "id": "view-in-github",
        "colab_type": "text"
      },
      "source": [
        "<a href=\"https://colab.research.google.com/github/Akula0320/AI_and_ML_LAB/blob/AI/SalaryProb.ipynb\" target=\"_parent\"><img src=\"https://colab.research.google.com/assets/colab-badge.svg\" alt=\"Open In Colab\"/></a>"
      ]
    },
    {
      "cell_type": "code",
      "execution_count": null,
      "metadata": {
        "id": "hZGF-AQo7dwq"
      },
      "outputs": [],
      "source": [
        "import pandas as pd\n",
        "df = pd.read_csv('/content/Salary_Data.csv.xls')\n",
        "import numpy as np\n",
        "import matplotlib.pyplot as plt\n",
        "from sklearn import linear_model\n",
        "\n"
      ]
    },
    {
      "cell_type": "code",
      "source": [
        "print(df.head())\n"
      ],
      "metadata": {
        "colab": {
          "base_uri": "https://localhost:8080/"
        },
        "id": "F05RKX9t-XcZ",
        "outputId": "7df202c3-5a6a-436b-a5f2-686651ea5966"
      },
      "execution_count": null,
      "outputs": [
        {
          "output_type": "stream",
          "name": "stdout",
          "text": [
            "   YearsExperience   Salary\n",
            "0              1.1  39343.0\n",
            "1              1.3  46205.0\n",
            "2              1.5  37731.0\n",
            "3              2.0  43525.0\n",
            "4              2.2  39891.0\n"
          ]
        }
      ]
    },
    {
      "cell_type": "code",
      "source": [
        "# lableling the graph\n",
        "\n",
        "plt.xlabel('Years experience')\n",
        "plt.ylabel('Salary')\n",
        "plt.title('Salary_Prediction_Model')\n",
        "\n",
        "\n",
        "\n",
        "\n",
        "#extracting Data\n",
        "\n",
        "X = df['YearsExperience']\n",
        "Y = df['Salary']\n",
        "\n",
        "\n",
        "\n",
        "x = np.array(X).reshape(-1,1)\n",
        "y = np.array(Y).reshape(-1,1)\n",
        "\n",
        "# Splitting The Data\n",
        "from pandas.core.common import random_state\n",
        "from sklearn.model_selection import train_test_split\n",
        "\n",
        "x_train, x_test, y_train, y_test = train_test_split(x,y, train_size = .80, random_state=0)\n",
        "\n",
        "plt.scatter(x,y)"
      ],
      "metadata": {
        "colab": {
          "base_uri": "https://localhost:8080/",
          "height": 312
        },
        "id": "s_QtiAiQ9vU3",
        "outputId": "285102b6-49c5-4de9-a468-f28c20fcc172"
      },
      "execution_count": null,
      "outputs": [
        {
          "output_type": "execute_result",
          "data": {
            "text/plain": [
              "<matplotlib.collections.PathCollection at 0x7f0315155850>"
            ]
          },
          "metadata": {},
          "execution_count": 14
        },
        {
          "output_type": "display_data",
          "data": {
            "text/plain": [
              "<Figure size 432x288 with 1 Axes>"
            ],
            "image/png": "[encoded data removed]"
          },
          "metadata": {
            "needs_background": "light"
          }
        }
      ]
    },
    {
      "cell_type": "code",
      "source": [
        "SLR = linear_model.LinearRegression()\n",
        "\n",
        "\n",
        "SLR.fit(x_train, y_train)\n"
      ],
      "metadata": {
        "colab": {
          "base_uri": "https://localhost:8080/"
        },
        "id": "GODkKYE5AhUe",
        "outputId": "23710233-8bdf-4427-aa21-020486c87116"
      },
      "execution_count": null,
      "outputs": [
        {
          "output_type": "execute_result",
          "data": {
            "text/plain": [
              "LinearRegression()"
            ]
          },
          "metadata": {},
          "execution_count": 16
        }
      ]
    },
    {
      "cell_type": "code",
      "source": [
        "pridectValues = SLR.predict(x_test)"
      ],
      "metadata": {
        "id": "v-_06yv7AhRB"
      },
      "execution_count": null,
      "outputs": []
    },
    {
      "cell_type": "code",
      "source": [
        "plt.scatter(x,y)\n",
        "plt.scatter(x_test, pridectValues)\n",
        "plt.plot(x_test, pridectValues)"
      ],
      "metadata": {
        "colab": {
          "base_uri": "https://localhost:8080/",
          "height": 282
        },
        "id": "jW1eUtMeDPGy",
        "outputId": "97eb06d1-0fe6-4d5e-c918-314db45653b5"
      },
      "execution_count": null,
      "outputs": [
        {
          "output_type": "execute_result",
          "data": {
            "text/plain": [
              "[<matplotlib.lines.Line2D at 0x7f0315093a90>]"
            ]
          },
          "metadata": {},
          "execution_count": 19
        },
        {
          "output_type": "display_data",
          "data": {
            "text/plain": [
              "<Figure size 432x288 with 1 Axes>"
            ],
            "image/png": "[encoded data removed]"
          },
          "metadata": {
            "needs_background": "light"
          }
        }
      ]
    },
    {
      "cell_type": "code",
      "source": [],
      "metadata": {
        "id": "vvY7pdnQFS5_"
      },
      "execution_count": null,
      "outputs": []
    },
    {
      "cell_type": "code",
      "source": [
        "from sklearn.metrics import r2_score, mean_squared_error\n",
        "print('R square = ', r2_score(y_test, pridectValues))\n",
        "print('Mean Square Error = ', mean_squared_error(y_test, pridectValues))\n",
        "print('Root mean squared Error = ', np.sqrt(mean_squared_error(y_test, pridectValues)))\n"
      ],
      "metadata": {
        "colab": {
          "base_uri": "https://localhost:8080/"
        },
        "id": "3N-EHafjD3pf",
        "outputId": "9d6bd92e-5492-44a1-8753-dce62fa53a69"
      },
      "execution_count": null,
      "outputs": [
        {
          "output_type": "stream",
          "name": "stdout",
          "text": [
            "R square =  0.988169515729126\n",
            "Mean Square Error =  12823412.298126549\n",
            "Root mean squared Error =  3580.979237321343\n"
          ]
        }
      ]
    },
    {
      "cell_type": "code",
      "source": [
        "print(SLR.intercept_)\n",
        "print(SLR.coef_)"
      ],
      "metadata": {
        "colab": {
          "base_uri": "https://localhost:8080/"
        },
        "id": "4w-JVCksJ5QF",
        "outputId": "0372c7ca-9092-4b10-f55a-fd92804ccbd8"
      },
      "execution_count": null,
      "outputs": [
        {
          "output_type": "stream",
          "name": "stdout",
          "text": [
            "[26780.09915063]\n",
            "[[9312.57512673]]\n"
          ]
        }
      ]
    }
  ]
}